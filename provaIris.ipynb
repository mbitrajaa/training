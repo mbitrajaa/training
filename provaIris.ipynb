{
  "nbformat": 4,
  "nbformat_minor": 0,
  "metadata": {
    "colab": {
      "provenance": [],
      "authorship_tag": "ABX9TyNh/AU+jcaSjB6/zm0TYeqU",
      "include_colab_link": true
    },
    "kernelspec": {
      "name": "python3",
      "display_name": "Python 3"
    },
    "language_info": {
      "name": "python"
    }
  },
  "cells": [
    {
      "cell_type": "markdown",
      "metadata": {
        "id": "view-in-github",
        "colab_type": "text"
      },
      "source": [
        "<a href=\"https://colab.research.google.com/github/mbitrajaa/training/blob/main/provaIris.ipynb\" target=\"_parent\"><img src=\"https://colab.research.google.com/assets/colab-badge.svg\" alt=\"Open In Colab\"/></a>"
      ]
    },
    {
      "cell_type": "code",
      "execution_count": null,
      "metadata": {
        "id": "FZoaEuwDSt4f"
      },
      "outputs": [],
      "source": []
    },
    {
      "cell_type": "code",
      "source": [
        "from sklearn.datasets import load_iris\n",
        "import pandas as pd\n",
        "\n",
        "\n",
        "iris = load_iris()\n",
        "data = pd.DataFrame(iris.data, columns=iris.feature_names)\n",
        "data['target'] = iris.target\n",
        "\n",
        "print(data.head())\n"
      ],
      "metadata": {
        "colab": {
          "base_uri": "https://localhost:8080/"
        },
        "id": "vjKnmVRHEW4W",
        "outputId": "4607ccb3-3d59-4e99-ed3c-2c3e83786112"
      },
      "execution_count": null,
      "outputs": [
        {
          "output_type": "stream",
          "name": "stdout",
          "text": [
            "   sepal length (cm)  sepal width (cm)  petal length (cm)  petal width (cm)  \\\n",
            "0                5.1               3.5                1.4               0.2   \n",
            "1                4.9               3.0                1.4               0.2   \n",
            "2                4.7               3.2                1.3               0.2   \n",
            "3                4.6               3.1                1.5               0.2   \n",
            "4                5.0               3.6                1.4               0.2   \n",
            "\n",
            "   target  \n",
            "0       0  \n",
            "1       0  \n",
            "2       0  \n",
            "3       0  \n",
            "4       0  \n"
          ]
        }
      ]
    },
    {
      "cell_type": "code",
      "source": [
        "from sklearn.model_selection import train_test_split\n",
        "X = data[iris.feature_names]\n",
        "y = data['target']\n",
        "\n",
        "X_train, X_test, y_train, y_test = train_test_split(X,y,test_size = 0.2, random_state= 0)\n",
        "print(\"Dati di training:\", X_train.shape)\n",
        "print(\"Dati di test:\", X_test.shape)"
      ],
      "metadata": {
        "colab": {
          "base_uri": "https://localhost:8080/"
        },
        "id": "j9iTCbKFS5OW",
        "outputId": "417767b7-7a8b-48f2-8177-32bce04d4729"
      },
      "execution_count": 10,
      "outputs": [
        {
          "output_type": "stream",
          "name": "stdout",
          "text": [
            "Dati di training: (120, 4)\n",
            "Dati di test: (30, 4)\n"
          ]
        }
      ]
    },
    {
      "cell_type": "code",
      "source": [
        "from sklearn.ensemble import RandomForestClassifier\n",
        "from sklearn.metrics import accuracy_score\n",
        "model = RandomForestClassifier(random_state=0)\n",
        "model.fit(X_train, y_train)  # Addestramento sul training set\n",
        "y_pred = model.predict(X_test)  # Previsioni sul test set\n",
        "accuracy = accuracy_score(y_test, y_pred)\n",
        "print(\"Accuratezza del modello:\", accuracy)\n"
      ],
      "metadata": {
        "colab": {
          "base_uri": "https://localhost:8080/"
        },
        "id": "FuGbpvMUqsBI",
        "outputId": "daaf765c-d441-4dc1-a80e-707b6eca0428"
      },
      "execution_count": 14,
      "outputs": [
        {
          "output_type": "stream",
          "name": "stdout",
          "text": [
            "Accuratezza del modello: 1.0\n"
          ]
        }
      ]
    },
    {
      "cell_type": "code",
      "source": [
        "import pandas as pd\n",
        "\n",
        "# Fare previsioni\n",
        "y_pred = model.predict(X_test)\n",
        "\n",
        "# Creare un DataFrame con i dati attesi e predetti\n",
        "df = pd.DataFrame({'Dati attesi (y_test)': y_test, 'Dati predetti (y_pred)': y_pred})\n",
        "\n",
        "# Visualizzare la tabella\n",
        "print(df)\n"
      ],
      "metadata": {
        "colab": {
          "base_uri": "https://localhost:8080/"
        },
        "id": "OC1QWmFNvyR5",
        "outputId": "0ffd8277-a85d-4845-85b8-d4a0d4474c43"
      },
      "execution_count": 15,
      "outputs": [
        {
          "output_type": "stream",
          "name": "stdout",
          "text": [
            "     Dati attesi (y_test)  Dati predetti (y_pred)\n",
            "114                     2                       2\n",
            "62                      1                       1\n",
            "33                      0                       0\n",
            "107                     2                       2\n",
            "7                       0                       0\n",
            "100                     2                       2\n",
            "40                      0                       0\n",
            "86                      1                       1\n",
            "76                      1                       1\n",
            "71                      1                       1\n",
            "134                     2                       2\n",
            "51                      1                       1\n",
            "73                      1                       1\n",
            "54                      1                       1\n",
            "63                      1                       1\n",
            "37                      0                       0\n",
            "78                      1                       1\n",
            "90                      1                       1\n",
            "45                      0                       0\n",
            "16                      0                       0\n",
            "121                     2                       2\n",
            "66                      1                       1\n",
            "24                      0                       0\n",
            "8                       0                       0\n",
            "126                     2                       2\n",
            "22                      0                       0\n",
            "44                      0                       0\n",
            "97                      1                       1\n",
            "93                      1                       1\n",
            "26                      0                       0\n"
          ]
        }
      ]
    },
    {
      "cell_type": "code",
      "source": [
        "df['Corretto'] = df['Dati attesi (y_test)'] == df['Dati predetti (y_pred)']\n",
        "\n",
        "# Mostrare il risultato\n",
        "print(df)\n"
      ],
      "metadata": {
        "colab": {
          "base_uri": "https://localhost:8080/"
        },
        "id": "5gjDGlOIv3Px",
        "outputId": "73b38666-45c0-4d26-a179-9167a75c99d5"
      },
      "execution_count": 16,
      "outputs": [
        {
          "output_type": "stream",
          "name": "stdout",
          "text": [
            "     Dati attesi (y_test)  Dati predetti (y_pred)  Corretto\n",
            "114                     2                       2      True\n",
            "62                      1                       1      True\n",
            "33                      0                       0      True\n",
            "107                     2                       2      True\n",
            "7                       0                       0      True\n",
            "100                     2                       2      True\n",
            "40                      0                       0      True\n",
            "86                      1                       1      True\n",
            "76                      1                       1      True\n",
            "71                      1                       1      True\n",
            "134                     2                       2      True\n",
            "51                      1                       1      True\n",
            "73                      1                       1      True\n",
            "54                      1                       1      True\n",
            "63                      1                       1      True\n",
            "37                      0                       0      True\n",
            "78                      1                       1      True\n",
            "90                      1                       1      True\n",
            "45                      0                       0      True\n",
            "16                      0                       0      True\n",
            "121                     2                       2      True\n",
            "66                      1                       1      True\n",
            "24                      0                       0      True\n",
            "8                       0                       0      True\n",
            "126                     2                       2      True\n",
            "22                      0                       0      True\n",
            "44                      0                       0      True\n",
            "97                      1                       1      True\n",
            "93                      1                       1      True\n",
            "26                      0                       0      True\n"
          ]
        }
      ]
    },
    {
      "cell_type": "code",
      "source": [
        "from sklearn.linear_model import LogisticRegression\n",
        "from sklearn.model_selection import train_test_split\n",
        "from sklearn.metrics import accuracy_score, classification_report, confusion_matrix\n",
        "\n",
        "# Caricare il dataset Iris\n",
        "from sklearn.datasets import load_iris\n",
        "data = load_iris()\n",
        "X = data['data']\n",
        "y = data['target']\n",
        "\n",
        "# Dividere il dataset in training e test set\n",
        "X_train, X_test, y_train, y_test = train_test_split(X, y, test_size=0.2, random_state=0)\n",
        "\n",
        "# Inizializzare il modello di regressione logistica\n",
        "model = LogisticRegression(multi_class='multinomial', solver='lbfgs', max_iter=200)\n",
        "\n",
        "# Addestrare il modello\n",
        "model.fit(X_train, y_train)\n",
        "\n",
        "# Fare previsioni\n",
        "y_pred = model.predict(X_test)\n",
        "\n",
        "# Valutare il modello\n",
        "accuracy = accuracy_score(y_test, y_pred)\n",
        "print(\"Accuratezza:\", accuracy)\n",
        "print(\"Matrice di confusione:\")\n",
        "print(confusion_matrix(y_test, y_pred))\n",
        "print(\"Report di classificazione:\")\n",
        "print(classification_report(y_test, y_pred, target_names=data.target_names))\n"
      ],
      "metadata": {
        "colab": {
          "base_uri": "https://localhost:8080/"
        },
        "id": "d5wUQy4txuX2",
        "outputId": "45ea065b-8280-4bc0-df4e-83fff05bd32b"
      },
      "execution_count": 17,
      "outputs": [
        {
          "output_type": "stream",
          "name": "stdout",
          "text": [
            "Accuratezza: 1.0\n",
            "Matrice di confusione:\n",
            "[[11  0  0]\n",
            " [ 0 13  0]\n",
            " [ 0  0  6]]\n",
            "Report di classificazione:\n",
            "              precision    recall  f1-score   support\n",
            "\n",
            "      setosa       1.00      1.00      1.00        11\n",
            "  versicolor       1.00      1.00      1.00        13\n",
            "   virginica       1.00      1.00      1.00         6\n",
            "\n",
            "    accuracy                           1.00        30\n",
            "   macro avg       1.00      1.00      1.00        30\n",
            "weighted avg       1.00      1.00      1.00        30\n",
            "\n"
          ]
        },
        {
          "output_type": "stream",
          "name": "stderr",
          "text": [
            "/usr/local/lib/python3.10/dist-packages/sklearn/linear_model/_logistic.py:1247: FutureWarning: 'multi_class' was deprecated in version 1.5 and will be removed in 1.7. From then on, it will always use 'multinomial'. Leave it to its default value to avoid this warning.\n",
            "  warnings.warn(\n"
          ]
        }
      ]
    },
    {
      "cell_type": "code",
      "source": [
        "from sklearn.ensemble import RandomForestClassifier\n",
        "from sklearn.model_selection import train_test_split\n",
        "from sklearn.metrics import accuracy_score, classification_report, confusion_matrix\n",
        "from sklearn.datasets import load_iris\n",
        "\n",
        "# Caricare il dataset Iris\n",
        "data = load_iris()\n",
        "X = data['data']  # Caratteristiche (lunghezza e larghezza di sepalo e petalo)\n",
        "y = data['target']  # Target (specie: 0, 1, 2)\n",
        "\n",
        "# Divisione in training e test set\n",
        "X_train, X_test, y_train, y_test = train_test_split(X, y, test_size=0.2, random_state=42)\n",
        "\n",
        "# Creare il modello Random Forest\n",
        "model = RandomForestClassifier(n_estimators=100, random_state=42)\n",
        "\n",
        "# Addestrare il modello\n",
        "model.fit(X_train, y_train)\n",
        "\n",
        "# Fare previsioni sui dati di test\n",
        "y_pred = model.predict(X_test)\n",
        "\n",
        "# Quanto bene un modello classifica i dati\n",
        "accuracy = accuracy_score(y_test, y_pred)\n",
        "print(\"Accuratezza:\", accuracy)\n",
        "\n",
        "# Matrice di confusione\n",
        "print(\"Matrice di confusione:\")\n",
        "print(confusion_matrix(y_test, y_pred))\n",
        "\n",
        "# Report di classificazione\n",
        "print(\"Report di classificazione:\")\n",
        "print(classification_report(y_test, y_pred, target_names=data.target_names))\n",
        "\n",
        ""
      ],
      "metadata": {
        "colab": {
          "base_uri": "https://localhost:8080/"
        },
        "id": "nay0CQTaysmL",
        "outputId": "ddc84294-b46c-40ea-80d3-dba75a2b05a9"
      },
      "execution_count": 18,
      "outputs": [
        {
          "output_type": "stream",
          "name": "stdout",
          "text": [
            "Accuratezza: 1.0\n",
            "Matrice di confusione:\n",
            "[[10  0  0]\n",
            " [ 0  9  0]\n",
            " [ 0  0 11]]\n",
            "Report di classificazione:\n",
            "              precision    recall  f1-score   support\n",
            "\n",
            "      setosa       1.00      1.00      1.00        10\n",
            "  versicolor       1.00      1.00      1.00         9\n",
            "   virginica       1.00      1.00      1.00        11\n",
            "\n",
            "    accuracy                           1.00        30\n",
            "   macro avg       1.00      1.00      1.00        30\n",
            "weighted avg       1.00      1.00      1.00        30\n",
            "\n"
          ]
        }
      ]
    }
  ]
}